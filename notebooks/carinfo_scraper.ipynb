{
  "cells": [
    {
      "cell_type": "code",
      "execution_count": 1,
      "metadata": {
        "id": "zzDtaoh8zAfB"
      },
      "outputs": [],
      "source": [
        "import pandas as pd\n",
        "import requests\n",
        "from bs4 import BeautifulSoup"
      ]
    },
    {
      "cell_type": "code",
      "execution_count": 2,
      "metadata": {
        "id": "2BiWSzXmzAfN"
      },
      "outputs": [],
      "source": [
        "def gatherInfoFromURL(url):\n",
        "    pageRefs = []\n",
        "    carInfo = {\"cars\": [], \"year\": [], \"power\": [], \"carType\": []}\n",
        "\n",
        "    page_response = requests.get(url, timeout=5)\n",
        "    html_soup = BeautifulSoup(page_response.content, \"html.parser\")\n",
        "\n",
        "    pageRefs.append(url)\n",
        "    for x in html_soup.find(\"p\", class_ = \"links\").find_all(\"a\"):\n",
        "        if x[\"href\"] not in pageRefs:\n",
        "            pageRefs.append(x[\"href\"])\n",
        "\n",
        "    for page in pageRefs:\n",
        "\n",
        "        page_response = requests.get(page, timeout=5)\n",
        "        html_soup = BeautifulSoup(page_response.content, \"html.parser\")\n",
        "\n",
        "        carContainers = html_soup.find(\"section\", class_ = \"models\").find_all(\"div\", class_ = \"col-4\")\n",
        "\n",
        "        carsOnPage = [x.find(\"a\").text.strip() for x in carContainers]\n",
        "        carInfo[\"cars\"].extend(carsOnPage)\n",
        "\n",
        "        carDetail = [x.find(\"p\") for x in carContainers]\n",
        "\n",
        "        info = []\n",
        "        for detail in carDetail:\n",
        "            for string in detail.strings:\n",
        "                info.append(string)\n",
        "\n",
        "        carInfo[\"year\"].extend(info[::2])\n",
        "        carInfo[\"power\"].extend([x.split(\",\")[0].strip().split()[0].strip() for x in info[1::2]])\n",
        "        carInfo[\"carType\"].extend([x.split(\",\")[1].strip() for x in info[1::2]])\n",
        "\n",
        "        print(f\"Found {len(carsOnPage)} cars on page : {page}\")\n",
        "\n",
        "    return carInfo"
      ]
    },
    {
      "cell_type": "code",
      "execution_count": 3,
      "metadata": {
        "scrolled": true,
        "colab": {
          "base_uri": "https://localhost:8080/"
        },
        "id": "Ma9GnFjIzAfO",
        "outputId": "6fb316e1-9478-4118-8bf6-2613dcbff4ac"
      },
      "outputs": [
        {
          "output_type": "stream",
          "name": "stdout",
          "text": [
            "Found 21 cars on page : http://www.cars-data.com/en/sport-cars.html\n"
          ]
        }
      ],
      "source": [
        "carinfo = gatherInfoFromURL(url=\"http://www.cars-data.com/en/sport-cars.html\")"
      ]
    },
    {
      "cell_type": "code",
      "execution_count": 4,
      "metadata": {
        "colab": {
          "base_uri": "https://localhost:8080/"
        },
        "id": "cf2Tskv4zAfQ",
        "outputId": "4b616d30-e899-4bb6-e038-d42c36d06db7"
      },
      "outputs": [
        {
          "output_type": "stream",
          "name": "stdout",
          "text": [
            "21\n"
          ]
        }
      ],
      "source": [
        "print(len(carinfo[\"cars\"]))"
      ]
    },
    {
      "cell_type": "code",
      "execution_count": 5,
      "metadata": {
        "id": "ickmMBZXzAfS"
      },
      "outputs": [],
      "source": [
        "carDataFrame = pd.DataFrame({\"Cars\": carinfo.get(\"cars\"), \"Year\": carinfo.get(\"year\"), \"Power\": carinfo.get(\"power\"), \"Car type\": carinfo.get(\"carType\"), \"Price\": carinfo.get(\"price\")})"
      ]
    },
    {
      "cell_type": "code",
      "execution_count": 6,
      "metadata": {
        "colab": {
          "base_uri": "https://localhost:8080/"
        },
        "id": "e6QjMUVIzAfT",
        "outputId": "0f40c3b8-f258-42c3-d128-56e0214b7ab1"
      },
      "outputs": [
        {
          "output_type": "stream",
          "name": "stdout",
          "text": [
            "(21, 5)\n"
          ]
        }
      ],
      "source": [
        "print(carDataFrame.shape)"
      ]
    },
    {
      "cell_type": "code",
      "execution_count": 7,
      "metadata": {
        "colab": {
          "base_uri": "https://localhost:8080/"
        },
        "id": "arn3MkBPzAfd",
        "outputId": "f1693266-3ca8-4d6e-dbb3-b836b4e36520"
      },
      "outputs": [
        {
          "output_type": "stream",
          "name": "stdout",
          "text": [
            "                         Cars Power Car type Price  Started  End year (2024)\n",
            "0  Bugatti Veyron Super Sport  1200    Coupe  None     2010             2015\n",
            "1         Bugatti Veyron 16.4  1001    Coupe  None     2005             2011\n",
            "2  Bugatti Veyron Grand Sport  1001    Coupe  None     2009             2015\n",
            "3       Ferrari SF90 Stradale  1000    Coupe  None     2020             2024\n",
            "4           Ferrari LaFerrari   963    Coupe  None     2013             2015\n"
          ]
        }
      ],
      "source": [
        "startYear = []\n",
        "endYear = []\n",
        "\n",
        "for year in carDataFrame[\"Year\"]:\n",
        "    splitYear = year.split(\"-\")\n",
        "    startYear.append(int(splitYear[0].strip()))\n",
        "    if splitYear[1].strip() == \"present\":\n",
        "        endYear.append(2024)\n",
        "    else:\n",
        "        endYear.append(int(splitYear[1].strip()))\n",
        "\n",
        "carDataFrame = carDataFrame.drop(['Year'], axis=1)\n",
        "carDataFrame[\"Started\"] = startYear\n",
        "carDataFrame[\"End year (2024)\"] = endYear\n",
        "\n",
        "print(carDataFrame.head())\n"
      ]
    },
    {
      "cell_type": "code",
      "execution_count": 8,
      "metadata": {
        "id": "OICqrO6VzAff"
      },
      "outputs": [],
      "source": [
        "header = [\"Cars\", \"Power\", \"Car type\", \"Started\", \"End year (2024)\"]\n",
        "carDataFrame.to_csv(\"carInfo.csv\", columns=header, index=False)"
      ]
    }
  ],
  "metadata": {
    "kernelspec": {
      "display_name": "Python 3",
      "language": "python",
      "name": "python3"
    },
    "language_info": {
      "codemirror_mode": {
        "name": "ipython",
        "version": 3
      },
      "file_extension": ".py",
      "mimetype": "text/x-python",
      "name": "python",
      "nbconvert_exporter": "python",
      "pygments_lexer": "ipython3",
      "version": "3.6.4"
    },
    "colab": {
      "provenance": []
    }
  },
  "nbformat": 4,
  "nbformat_minor": 0
}