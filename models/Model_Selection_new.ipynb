{
 "cells": [
  {
   "cell_type": "markdown",
   "id": "c7129f2c-b9d1-4c3b-8db2-1c9c65616d0f",
   "metadata": {},
   "source": [
    "# Model Selection\n",
    "**Reading file from Github**"
   ]
  },
  {
   "cell_type": "code",
   "execution_count": 57,
   "id": "3483e9a6-14df-4ab4-8e7f-209841437acf",
   "metadata": {},
   "outputs": [],
   "source": [
    "import pandas as pd"
   ]
  },
  {
   "cell_type": "code",
   "execution_count": 59,
   "id": "7dd2d88d-2402-4350-bdf4-0f3fb1807145",
   "metadata": {},
   "outputs": [
    {
     "data": {
      "text/html": [
       "<div>\n",
       "<style scoped>\n",
       "    .dataframe tbody tr th:only-of-type {\n",
       "        vertical-align: middle;\n",
       "    }\n",
       "\n",
       "    .dataframe tbody tr th {\n",
       "        vertical-align: top;\n",
       "    }\n",
       "\n",
       "    .dataframe thead th {\n",
       "        text-align: right;\n",
       "    }\n",
       "</style>\n",
       "<table border=\"1\" class=\"dataframe\">\n",
       "  <thead>\n",
       "    <tr style=\"text-align: right;\">\n",
       "      <th></th>\n",
       "      <th>Title</th>\n",
       "      <th>Dealer</th>\n",
       "      <th>Rating</th>\n",
       "      <th>Exterior Color</th>\n",
       "      <th>Interior Color</th>\n",
       "      <th>Engine</th>\n",
       "      <th>Mileage</th>\n",
       "      <th>Price</th>\n",
       "      <th>Year</th>\n",
       "      <th>Car Age</th>\n",
       "      <th>...</th>\n",
       "      <th>Safety Features_Backup Camera</th>\n",
       "      <th>Safety Features_Blind Spot Monitor</th>\n",
       "      <th>Safety Features_Brake Assist</th>\n",
       "      <th>Safety Features_LED Headlights</th>\n",
       "      <th>Safety Features_Lane Departure Warning</th>\n",
       "      <th>Safety Features_Rain Sensing Wipers</th>\n",
       "      <th>Safety Features_Rear Cross Traffic Alert</th>\n",
       "      <th>Safety Features_Stability Control</th>\n",
       "      <th>Safety Features_Unknown</th>\n",
       "      <th>Safety Features_Missing</th>\n",
       "    </tr>\n",
       "  </thead>\n",
       "  <tbody>\n",
       "    <tr>\n",
       "      <th>0</th>\n",
       "      <td>Chrysler F-58</td>\n",
       "      <td>Gateway Classic Cars</td>\n",
       "      <td>2.4</td>\n",
       "      <td>Red</td>\n",
       "      <td>White</td>\n",
       "      <td>4 Cylinder</td>\n",
       "      <td>-0.225739</td>\n",
       "      <td>-0.632087</td>\n",
       "      <td>-12.620677</td>\n",
       "      <td>99</td>\n",
       "      <td>...</td>\n",
       "      <td>0</td>\n",
       "      <td>0</td>\n",
       "      <td>0</td>\n",
       "      <td>0</td>\n",
       "      <td>0</td>\n",
       "      <td>0</td>\n",
       "      <td>0</td>\n",
       "      <td>0</td>\n",
       "      <td>1</td>\n",
       "      <td>0</td>\n",
       "    </tr>\n",
       "    <tr>\n",
       "      <th>1</th>\n",
       "      <td>Ford Model A Base</td>\n",
       "      <td>Skyway Classics</td>\n",
       "      <td>2.9</td>\n",
       "      <td>Magenta</td>\n",
       "      <td>Tan</td>\n",
       "      <td>350 V8</td>\n",
       "      <td>-0.448202</td>\n",
       "      <td>-0.128626</td>\n",
       "      <td>-12.083210</td>\n",
       "      <td>95</td>\n",
       "      <td>...</td>\n",
       "      <td>0</td>\n",
       "      <td>0</td>\n",
       "      <td>0</td>\n",
       "      <td>0</td>\n",
       "      <td>0</td>\n",
       "      <td>0</td>\n",
       "      <td>0</td>\n",
       "      <td>0</td>\n",
       "      <td>1</td>\n",
       "      <td>0</td>\n",
       "    </tr>\n",
       "    <tr>\n",
       "      <th>2</th>\n",
       "      <td>Ford Pickup Truck Base</td>\n",
       "      <td>Greenwood Automotive</td>\n",
       "      <td>4.9</td>\n",
       "      <td>–</td>\n",
       "      <td>–</td>\n",
       "      <td>–</td>\n",
       "      <td>2.191959</td>\n",
       "      <td>0.981138</td>\n",
       "      <td>-10.739543</td>\n",
       "      <td>85</td>\n",
       "      <td>...</td>\n",
       "      <td>0</td>\n",
       "      <td>0</td>\n",
       "      <td>0</td>\n",
       "      <td>0</td>\n",
       "      <td>0</td>\n",
       "      <td>0</td>\n",
       "      <td>0</td>\n",
       "      <td>0</td>\n",
       "      <td>1</td>\n",
       "      <td>0</td>\n",
       "    </tr>\n",
       "    <tr>\n",
       "      <th>3</th>\n",
       "      <td>Chevrolet Fleetline Deluxe</td>\n",
       "      <td>California Cars</td>\n",
       "      <td>4.6</td>\n",
       "      <td>Atomic Orange Metallic</td>\n",
       "      <td>Gray</td>\n",
       "      <td>283 V8</td>\n",
       "      <td>-0.778631</td>\n",
       "      <td>-0.253931</td>\n",
       "      <td>-9.261509</td>\n",
       "      <td>74</td>\n",
       "      <td>...</td>\n",
       "      <td>0</td>\n",
       "      <td>0</td>\n",
       "      <td>0</td>\n",
       "      <td>0</td>\n",
       "      <td>0</td>\n",
       "      <td>0</td>\n",
       "      <td>0</td>\n",
       "      <td>0</td>\n",
       "      <td>1</td>\n",
       "      <td>0</td>\n",
       "    </tr>\n",
       "    <tr>\n",
       "      <th>4</th>\n",
       "      <td>GMC Suburban</td>\n",
       "      <td>Exotic Motorsports of Oklahoma</td>\n",
       "      <td>4.6</td>\n",
       "      <td>Black</td>\n",
       "      <td>Tan</td>\n",
       "      <td>5.7L V8</td>\n",
       "      <td>-0.775992</td>\n",
       "      <td>0.158074</td>\n",
       "      <td>-9.127142</td>\n",
       "      <td>73</td>\n",
       "      <td>...</td>\n",
       "      <td>0</td>\n",
       "      <td>0</td>\n",
       "      <td>0</td>\n",
       "      <td>0</td>\n",
       "      <td>0</td>\n",
       "      <td>0</td>\n",
       "      <td>0</td>\n",
       "      <td>0</td>\n",
       "      <td>1</td>\n",
       "      <td>0</td>\n",
       "    </tr>\n",
       "  </tbody>\n",
       "</table>\n",
       "<p>5 rows × 131 columns</p>\n",
       "</div>"
      ],
      "text/plain": [
       "                        Title                          Dealer  Rating  \\\n",
       "0               Chrysler F-58            Gateway Classic Cars     2.4   \n",
       "1           Ford Model A Base                 Skyway Classics     2.9   \n",
       "2      Ford Pickup Truck Base            Greenwood Automotive     4.9   \n",
       "3  Chevrolet Fleetline Deluxe                 California Cars     4.6   \n",
       "4                GMC Suburban  Exotic Motorsports of Oklahoma     4.6   \n",
       "\n",
       "           Exterior Color Interior Color      Engine   Mileage     Price  \\\n",
       "0                     Red          White  4 Cylinder -0.225739 -0.632087   \n",
       "1                 Magenta            Tan      350 V8 -0.448202 -0.128626   \n",
       "2                       –              –           –  2.191959  0.981138   \n",
       "3  Atomic Orange Metallic           Gray      283 V8 -0.778631 -0.253931   \n",
       "4                   Black            Tan     5.7L V8 -0.775992  0.158074   \n",
       "\n",
       "        Year  Car Age  ... Safety Features_Backup Camera  \\\n",
       "0 -12.620677       99  ...                             0   \n",
       "1 -12.083210       95  ...                             0   \n",
       "2 -10.739543       85  ...                             0   \n",
       "3  -9.261509       74  ...                             0   \n",
       "4  -9.127142       73  ...                             0   \n",
       "\n",
       "   Safety Features_Blind Spot Monitor  Safety Features_Brake Assist  \\\n",
       "0                                   0                             0   \n",
       "1                                   0                             0   \n",
       "2                                   0                             0   \n",
       "3                                   0                             0   \n",
       "4                                   0                             0   \n",
       "\n",
       "  Safety Features_LED Headlights Safety Features_Lane Departure Warning  \\\n",
       "0                              0                                      0   \n",
       "1                              0                                      0   \n",
       "2                              0                                      0   \n",
       "3                              0                                      0   \n",
       "4                              0                                      0   \n",
       "\n",
       "   Safety Features_Rain Sensing Wipers  \\\n",
       "0                                    0   \n",
       "1                                    0   \n",
       "2                                    0   \n",
       "3                                    0   \n",
       "4                                    0   \n",
       "\n",
       "   Safety Features_Rear Cross Traffic Alert  \\\n",
       "0                                         0   \n",
       "1                                         0   \n",
       "2                                         0   \n",
       "3                                         0   \n",
       "4                                         0   \n",
       "\n",
       "   Safety Features_Stability Control  Safety Features_Unknown  \\\n",
       "0                                  0                        1   \n",
       "1                                  0                        1   \n",
       "2                                  0                        1   \n",
       "3                                  0                        1   \n",
       "4                                  0                        1   \n",
       "\n",
       "   Safety Features_Missing  \n",
       "0                        0  \n",
       "1                        0  \n",
       "2                        0  \n",
       "3                        0  \n",
       "4                        0  \n",
       "\n",
       "[5 rows x 131 columns]"
      ]
     },
     "execution_count": 59,
     "metadata": {},
     "output_type": "execute_result"
    }
   ],
   "source": [
    "url = 'https://raw.githubusercontent.com/AutoTrend-Dynamics/COMP3610-Final-Project/refs/heads/main/data/Cleaned_and_Encoded_Cars.csv'\n",
    "df = pd.read_csv(url)\n",
    "df.head()"
   ]
  },
  {
   "cell_type": "code",
   "execution_count": 61,
   "id": "d4025ca9-9150-4cc2-9d7d-f41a647a8fc2",
   "metadata": {},
   "outputs": [],
   "source": [
    "import numpy as np\n",
    "from sklearn.model_selection import train_test_split\n",
    "from sklearn.ensemble import RandomForestRegressor\n",
    "from xgboost import XGBRegressor\n",
    "from sklearn.linear_model import Lasso, LinearRegression\n",
    "from sklearn.metrics import mean_squared_error, r2_score\n",
    "from sklearn.preprocessing import StandardScaler\n",
    "from sklearn.impute import SimpleImputer\n",
    "from sklearn.pipeline import Pipeline\n",
    "from sklearn.compose import ColumnTransformer\n",
    "from sklearn.preprocessing import OneHotEncoder"
   ]
  },
  {
   "cell_type": "markdown",
   "id": "1a4bbd18-d3e8-4e9b-826b-2276ac16ddbc",
   "metadata": {},
   "source": [
    "### Separate features and target"
   ]
  },
  {
   "cell_type": "code",
   "execution_count": 63,
   "id": "77786e8c-7e19-4d71-846f-c3c7c89ab64c",
   "metadata": {},
   "outputs": [],
   "source": [
    "X = df.drop('Price', axis=1)\n",
    "y = df['Price']# Separate features and target"
   ]
  },
  {
   "cell_type": "markdown",
   "id": "0abc8e7f-60e8-496d-ab6d-4a59aaaf54b6",
   "metadata": {},
   "source": [
    "### Identify categorical and numerical columns"
   ]
  },
  {
   "cell_type": "code",
   "execution_count": 65,
   "id": "79a39a10-a970-467f-8c6b-00ea86428f94",
   "metadata": {},
   "outputs": [],
   "source": [
    "categorical_cols = [col for col in X.columns if X[col].dtype == 'object']\n",
    "numerical_cols = [col for col in X.columns if X[col].dtype in ['int64', 'float64']]"
   ]
  },
  {
   "cell_type": "markdown",
   "id": "0544b745-5f22-494d-8033-40dd34e05f42",
   "metadata": {},
   "source": [
    "## Preprocessing"
   ]
  },
  {
   "cell_type": "markdown",
   "id": "5b74911d-9020-40b0-bfaa-61bb9dab4406",
   "metadata": {},
   "source": [
    "### Numerical Data"
   ]
  },
  {
   "cell_type": "code",
   "execution_count": 67,
   "id": "5c9b22c2-3091-4196-9e1f-d27bd6faca99",
   "metadata": {},
   "outputs": [],
   "source": [
    "numerical_transformer = SimpleImputer(strategy='mean')"
   ]
  },
  {
   "cell_type": "markdown",
   "id": "03ce97e4-a9c1-431b-90f7-8576b306475f",
   "metadata": {},
   "source": [
    "### Categorical data"
   ]
  },
  {
   "cell_type": "code",
   "execution_count": 69,
   "id": "cfb73123-7735-40cf-857d-216b1c403e4d",
   "metadata": {},
   "outputs": [],
   "source": [
    "categorical_transformer = Pipeline(steps=[\n",
    "    ('imputer', SimpleImputer(strategy='most_frequent')),\n",
    "    ('onehot', OneHotEncoder(handle_unknown='ignore'))\n",
    "])"
   ]
  },
  {
   "cell_type": "markdown",
   "id": "906961f7-3fd2-42c7-ab5c-067563edb1ba",
   "metadata": {},
   "source": [
    "### Bundle preprocessing for numerical and categorical data"
   ]
  },
  {
   "cell_type": "code",
   "execution_count": 71,
   "id": "63d1315b-b9a8-4e55-bc02-1f60781a3001",
   "metadata": {},
   "outputs": [],
   "source": [
    "preprocessor = ColumnTransformer(\n",
    "    transformers=[\n",
    "        ('num', numerical_transformer, numerical_cols),\n",
    "        ('cat', categorical_transformer, categorical_cols)\n",
    "    ])"
   ]
  },
  {
   "cell_type": "markdown",
   "id": "decd6b0f-fc9b-417d-b099-8829def143a1",
   "metadata": {},
   "source": [
    "# Test, Train and Split"
   ]
  },
  {
   "cell_type": "code",
   "execution_count": 73,
   "id": "fd320f1d-a329-482d-8b05-0db295cf4373",
   "metadata": {},
   "outputs": [],
   "source": [
    "X_train, X_test, y_train, y_test = train_test_split(X, y, test_size=0.2, random_state=42)"
   ]
  },
  {
   "cell_type": "code",
   "execution_count": 75,
   "id": "ece0d352-0d80-4668-b76e-890284a14ea8",
   "metadata": {},
   "outputs": [],
   "source": [
    "models = {\n",
    "    'Random Forest': RandomForestRegressor(random_state=42),\n",
    "    'XGBoost': XGBRegressor(random_state=42),\n",
    "    'Lasso': Lasso(random_state=42),\n",
    "    'Linear Regression': LinearRegression()\n",
    "}"
   ]
  },
  {
   "cell_type": "markdown",
   "id": "ef877668-cdde-4854-aa13-68190c411fe9",
   "metadata": {},
   "source": [
    "### Dictionary to store results\n",
    "*For ease of visual comparison*"
   ]
  },
  {
   "cell_type": "code",
   "execution_count": 77,
   "id": "23f0e363-6464-40a0-8a87-0617f905ddce",
   "metadata": {},
   "outputs": [
    {
     "name": "stdout",
     "output_type": "stream",
     "text": [
      "Random Forest:\n",
      "  MSE: 0.1744\n",
      "  R2: 0.8423\n",
      "\n",
      "XGBoost:\n",
      "  MSE: 0.1749\n",
      "  R2: 0.8419\n",
      "\n",
      "Lasso:\n",
      "  MSE: 1.0764\n",
      "  R2: 0.0270\n",
      "\n",
      "Linear Regression:\n",
      "  MSE: 0.4394\n",
      "  R2: 0.6029\n",
      "\n"
     ]
    }
   ],
   "source": [
    "results = {}\n",
    "\n",
    "# Train and evaluate each model\n",
    "for name, model in models.items():\n",
    "    # Create pipeline\n",
    "    pipeline = Pipeline(steps=[\n",
    "        ('preprocessor', preprocessor),\n",
    "        ('model', model)\n",
    "    ])\n",
    "    # Fit the model\n",
    "    pipeline.fit(X_train, y_train)\n",
    "    \n",
    "    # Make predictions\n",
    "    y_pred = pipeline.predict(X_test)\n",
    "    \n",
    "    # Evaluate the model\n",
    "    mse = mean_squared_error(y_test, y_pred)\n",
    "    r2 = r2_score(y_test, y_pred)\n",
    "    \n",
    "    # Store results\n",
    "    results[name] = {\n",
    "    'MSE': mse,\n",
    "    'R2': r2,\n",
    "    'Model': pipeline\n",
    "    }\n",
    "    \n",
    "    print(f\"{name}:\")\n",
    "    print(f\"  MSE: {mse:.4f}\")\n",
    "    print(f\"  R2: {r2:.4f}\\n\")"
   ]
  },
  {
   "cell_type": "markdown",
   "id": "ffe6bed0-23c9-41e3-9df4-1dd6c6e7ae92",
   "metadata": {},
   "source": [
    "### Determining best model \n",
    "*Based on R2 value*"
   ]
  },
  {
   "cell_type": "code",
   "execution_count": 79,
   "id": "f017db60-f030-48f7-b502-c03e74bd5134",
   "metadata": {},
   "outputs": [
    {
     "name": "stdout",
     "output_type": "stream",
     "text": [
      "\n",
      "Best model is Random Forest with R2 score of 0.8423\n"
     ]
    }
   ],
   "source": [
    "# The best model based on R2 score\n",
    "best_model_name = max(results, key=lambda x: results[x]['R2'])\n",
    "print(f\"\\nBest model is {best_model_name} with R2 score of {results[best_model_name]['R2']:.4f}\")"
   ]
  },
  {
   "cell_type": "markdown",
   "id": "6ecf2556-846d-49e7-a7b5-ca936a11aa26",
   "metadata": {},
   "source": [
    "**This indicates that 84.23% of the variability of the Price is explained by the features of the model. Furhtermore with a Mean Squared Error od 0.1744, it further confirms that the Random Forest model is the best model for this study**\n",
    "\n",
    "**However, the XGBoost indicates a good R2 score and low MSE, thus a viable option alongside Random Forest**"
   ]
  }
 ],
 "metadata": {
  "kernelspec": {
   "display_name": "Python [conda env:base] *",
   "language": "python",
   "name": "conda-base-py"
  },
  "language_info": {
   "codemirror_mode": {
    "name": "ipython",
    "version": 3
   },
   "file_extension": ".py",
   "mimetype": "text/x-python",
   "name": "python",
   "nbconvert_exporter": "python",
   "pygments_lexer": "ipython3",
   "version": "3.12.7"
  }
 },
 "nbformat": 4,
 "nbformat_minor": 5
}
